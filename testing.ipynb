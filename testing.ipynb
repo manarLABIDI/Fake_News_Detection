{
  "nbformat": 4,
  "nbformat_minor": 0,
  "metadata": {
    "colab": {
      "provenance": [],
      "authorship_tag": "ABX9TyMG/p6dAjRVRJ+PstCwjOI8",
      "include_colab_link": true
    },
    "kernelspec": {
      "name": "python3",
      "display_name": "Python 3"
    },
    "language_info": {
      "name": "python"
    }
  },
  "cells": [
    {
      "cell_type": "markdown",
      "metadata": {
        "id": "view-in-github",
        "colab_type": "text"
      },
      "source": [
        "<a href=\"https://colab.research.google.com/github/manarLABIDI/Fake_News_Detection/blob/main/testing.ipynb\" target=\"_parent\"><img src=\"https://colab.research.google.com/assets/colab-badge.svg\" alt=\"Open In Colab\"/></a>"
      ]
    },
    {
      "cell_type": "code",
      "execution_count": 8,
      "metadata": {
        "id": "A_hC092Wk5WK"
      },
      "outputs": [],
      "source": [
        "import numpy as np\n",
        "import pandas as pd\n",
        "from tensorflow.keras.models import load_model\n",
        "from tensorflow.keras.preprocessing import sequence\n",
        "from sklearn.metrics import classification_report, confusion_matrix\n",
        "import seaborn as sns\n",
        "import matplotlib.pyplot as plt\n"
      ]
    },
    {
      "cell_type": "code",
      "source": [
        "from google.colab import drive\n",
        "drive.mount('/content/drive')\n"
      ],
      "metadata": {
        "colab": {
          "base_uri": "https://localhost:8080/"
        },
        "id": "kkgHBd0ElWX1",
        "outputId": "b2161765-da2e-4a66-9dd0-f104d12b6824"
      },
      "execution_count": 2,
      "outputs": [
        {
          "output_type": "stream",
          "name": "stdout",
          "text": [
            "Mounted at /content/drive\n"
          ]
        }
      ]
    },
    {
      "cell_type": "code",
      "source": [
        "\n",
        "\n",
        "# Load the model from the file\n",
        "model = load_model('/content/drive/MyDrive/Fake News Detection/model.h5')\n",
        "\n",
        "\n"
      ],
      "metadata": {
        "id": "gNjtek2YlZQv"
      },
      "execution_count": 28,
      "outputs": []
    },
    {
      "cell_type": "code",
      "source": [
        "test_data = pd.read_csv(\"/content/drive/MyDrive/Fake News Detection/True.csv\")\n",
        "news = pd.read_csv(\"/content/drive/MyDrive/Fake News Detection/news.csv\")"
      ],
      "metadata": {
        "id": "ug00L9eMl_Xm"
      },
      "execution_count": 25,
      "outputs": []
    },
    {
      "cell_type": "code",
      "source": [
        "test_x = news[\"text\"]\n"
      ],
      "metadata": {
        "id": "NuyXjkBSmx6E"
      },
      "execution_count": 26,
      "outputs": []
    },
    {
      "cell_type": "code",
      "source": [
        "x = news[\"text\"]\n",
        "y = news[\"news_class\"]\n"
      ],
      "metadata": {
        "id": "c0HqI-ndrIRn"
      },
      "execution_count": 27,
      "outputs": []
    },
    {
      "cell_type": "code",
      "source": [
        "\n",
        "test_y = news[\"news_class\"]\n"
      ],
      "metadata": {
        "id": "ted11YQeuAHR"
      },
      "execution_count": 21,
      "outputs": []
    },
    {
      "cell_type": "code",
      "source": [
        "train_x, test_x, train_y, test_y = train_test_split(x, y, test_size=0.2, shuffle=True, random_state=11)\n",
        "\n",
        "# Tokenize and preprocess the training data\n",
        "tokenizer = Tokenizer(num_words=10000)\n",
        "tokenizer.fit_on_texts(train_x)\n",
        "\n",
        "tokenized_train = tokenizer.texts_to_sequences(train_x)\n",
        "tokenized_test = tokenizer.texts_to_sequences(test_x)\n",
        "\n",
        "train_x = sequence.pad_sequences(tokenized_train, maxlen=300)\n",
        "test_x = sequence.pad_sequences(tokenized_test, maxlen=300)"
      ],
      "metadata": {
        "id": "sEaybGiqq3ul"
      },
      "execution_count": 29,
      "outputs": []
    },
    {
      "cell_type": "code",
      "source": [
        "prediction = model.predict(test_x)\n",
        "classes_pred = np.round(prediction).flatten().astype(int)\n"
      ],
      "metadata": {
        "colab": {
          "base_uri": "https://localhost:8080/"
        },
        "id": "mU5DnFX9sCsh",
        "outputId": "9bd02bb2-0740-4c0f-8c93-2007e63bdaeb"
      },
      "execution_count": 30,
      "outputs": [
        {
          "output_type": "stream",
          "name": "stdout",
          "text": [
            "281/281 [==============================] - 53s 186ms/step\n"
          ]
        }
      ]
    },
    {
      "cell_type": "code",
      "source": [
        "print(classification_report(test_y, classes_pred))\n",
        "conf_mat = confusion_matrix(test_y, classes_pred)\n",
        "print(conf_mat)\n",
        "\n",
        "sns.heatmap(conf_mat, square=True, annot=True, robust=True)\n",
        "plt.show()"
      ],
      "metadata": {
        "colab": {
          "base_uri": "https://localhost:8080/",
          "height": 621
        },
        "id": "AR4RbU9j1Bv0",
        "outputId": "c0140022-4ad0-4e44-f3c8-9e9770002b49"
      },
      "execution_count": 31,
      "outputs": [
        {
          "output_type": "stream",
          "name": "stdout",
          "text": [
            "              precision    recall  f1-score   support\n",
            "\n",
            "           0       0.46      0.34      0.39      4640\n",
            "           1       0.45      0.58      0.51      4340\n",
            "\n",
            "    accuracy                           0.45      8980\n",
            "   macro avg       0.46      0.46      0.45      8980\n",
            "weighted avg       0.46      0.45      0.45      8980\n",
            "\n",
            "[[1580 3060]\n",
            " [1835 2505]]\n"
          ]
        },
        {
          "output_type": "display_data",
          "data": {
            "text/plain": [
              "<Figure size 640x480 with 2 Axes>"
            ],
            "image/png": "[encoded data removed]"
          },
          "metadata": {}
        }
      ]
    },
    {
      "cell_type": "code",
      "source": [
        "example_text = \"World Leaders Sign Global Agreement to Establish a Lunar Colony. In a historic announcement, world leaders from various nations have come together to sign a groundbreaking agreement to establish a permanent colony on the moon. The project aims to create a self-sustaining lunar habitat within the next decade, opening up new opportunities for scientific research, space tourism, and extraterrestrial resource mining. The leaders emphasized the potential benefits of this lunar colony, including the expansion of human civilization beyond Earth and the exploration of new frontiers. This remarkable collaboration signifies a major leap forward in space exploration and highlights humanity's ambition to conquer the cosmos.\""
      ],
      "metadata": {
        "id": "g7YZFesK1fZs"
      },
      "execution_count": 61,
      "outputs": []
    },
    {
      "cell_type": "code",
      "source": [
        "tokenized_example = tokenizer.texts_to_sequences([example_text])\n",
        "padded_example = sequence.pad_sequences(tokenized_example, maxlen=300)\n",
        "\n"
      ],
      "metadata": {
        "id": "9p2mvjxL19oM"
      },
      "execution_count": 62,
      "outputs": []
    },
    {
      "cell_type": "code",
      "source": [
        "\n",
        "# Make predictions on the example text\n",
        "prediction = model.predict(padded_example)\n",
        "predicted_class = \"Fake\" if prediction[0] >= 0.5 else \"Real\"\n",
        "\n",
        "\n",
        "# True label for the example news article\n",
        "true_label = \"Real\"  # Replace with the true label of the example news article\n",
        "\n",
        "# Calculate accuracy\n",
        "accuracy = 1 if predicted_class == true_label else 0\n",
        "\n",
        "print(\"Predicted Class:\", predicted_class)\n",
        "print(\"Accuracy:\", accuracy)"
      ],
      "metadata": {
        "colab": {
          "base_uri": "https://localhost:8080/"
        },
        "id": "feQZkG1-2aRz",
        "outputId": "58e7f2e7-2b67-4551-8b6c-9bed6f2538e4"
      },
      "execution_count": 64,
      "outputs": [
        {
          "output_type": "stream",
          "name": "stdout",
          "text": [
            "1/1 [==============================] - 0s 100ms/step\n",
            "Predicted Class: Real\n",
            "Accuracy: 1\n"
          ]
        }
      ]
    },
    {
      "cell_type": "code",
      "source": [],
      "metadata": {
        "id": "1zjWQM5R2b4L"
      },
      "execution_count": null,
      "outputs": []
    }
  ]
}